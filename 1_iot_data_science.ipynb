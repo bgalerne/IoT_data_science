{
  "nbformat": 4,
  "nbformat_minor": 0,
  "metadata": {
    "colab": {
      "name": "1_iot_data_science.ipynb",
      "provenance": [],
      "authorship_tag": "ABX9TyP+EuNw+NiHC13agxOBr6EA",
      "include_colab_link": true
    },
    "kernelspec": {
      "name": "python3",
      "display_name": "Python 3"
    }
  },
  "cells": [
    {
      "cell_type": "markdown",
      "metadata": {
        "id": "view-in-github",
        "colab_type": "text"
      },
      "source": [
        "<a href=\"https://colab.research.google.com/github/bgalerne/IoT_data_science/blob/main/1_iot_data_science.ipynb\" target=\"_parent\"><img src=\"https://colab.research.google.com/assets/colab-badge.svg\" alt=\"Open In Colab\"/></a>"
      ]
    },
    {
      "cell_type": "markdown",
      "metadata": {
        "id": "dKqInDoVQ-xG"
      },
      "source": [
        "#Introduction to image processing\n",
        "\n",
        "First let us discuss python libraries\n",
        "\n"
      ]
    },
    {
      "cell_type": "code",
      "metadata": {
        "id": "ARdV4MRZQ2Hj"
      },
      "source": [
        "import numpy as np\n",
        "import matplotlib.pyplot as plt\n",
        "\n",
        "import skimage\n",
        "import imageio\n"
      ],
      "execution_count": null,
      "outputs": []
    },
    {
      "cell_type": "markdown",
      "metadata": {
        "id": "PSdEj6yhVKFg"
      },
      "source": [
        "Downlaod some image files:"
      ]
    },
    {
      "cell_type": "code",
      "metadata": {
        "id": "USXcgmO7VIdj"
      },
      "source": [
        "!wget \"https://www.idpoisson.fr/galerne/iot_data_science/parrot.bmp\""
      ],
      "execution_count": null,
      "outputs": []
    },
    {
      "cell_type": "code",
      "metadata": {
        "id": "r88cWkvDVwu2"
      },
      "source": [
        "u = imageio.imread('parrot.bmp')\n",
        "print(u.shape)\n",
        "print(u.dtype)\n",
        "# u is an RGB  image (3 chanels), each having size 495 x 495.\n",
        "# store this values (to adapt to other images)\n",
        "M, N, nc = u.shape\n",
        "# M is the height, N is the width (matrix convention)\n"
      ],
      "execution_count": null,
      "outputs": []
    },
    {
      "cell_type": "markdown",
      "metadata": {
        "id": "r5eXef22WcZl"
      },
      "source": [
        "##Image visualization:"
      ]
    },
    {
      "cell_type": "code",
      "metadata": {
        "id": "nrNsqDmyWZzG"
      },
      "source": [
        "plt.imshow(u);"
      ],
      "execution_count": null,
      "outputs": []
    },
    {
      "cell_type": "markdown",
      "metadata": {
        "id": "UqL-N2BjXjZ9"
      },
      "source": [
        "## Type of data: int8 VS float\n",
        "uint8 type = integers between 0 and 255. \n",
        "This is the 8-bits representation for pixel gray-level, but it is not possible to do computation with this:"
      ]
    },
    {
      "cell_type": "code",
      "metadata": {
        "id": "7l_fMa8YXnd-"
      },
      "source": [
        "x = np.array([250,30]).astype('uint8')\n",
        "print(x)\n",
        "print(x.dtype)\n",
        "s = x[0]+x[1]\n",
        "d = x[1]-x[0]\n",
        "m1 = (x[0]+x[1])/2\n",
        "m2 = x[0]/2 + x[1]/2\n",
        "print(s, d, m1, m2)"
      ],
      "execution_count": null,
      "outputs": []
    },
    {
      "cell_type": "markdown",
      "metadata": {
        "id": "8PI0buPyWHdI"
      },
      "source": [
        "Conclusion: **No processing with uint8 type**\n",
        "\n",
        "Always convert do float or double precision before any operation. \n",
        "Only use uint8 before writing image file on disk.\n"
      ]
    },
    {
      "cell_type": "code",
      "metadata": {
        "id": "kUR5AEvsZzuS"
      },
      "source": [
        "u = imageio.imread('parrot.bmp')\n",
        "print(u.shape)\n",
        "print(u.dtype)\n",
        "\n",
        "fig, axes = plt.subplots(ncols=3, figsize=(12, 4))\n",
        "axes[0].imshow(u)\n",
        "axes[1].imshow(u.astype('float64'))\n",
        "axes[2].imshow(u.astype('float64')/255)\n"
      ],
      "execution_count": null,
      "outputs": []
    },
    {
      "cell_type": "markdown",
      "metadata": {
        "id": "Alv-4fqVbznc"
      },
      "source": [
        "**Warning:**\n",
        "\n",
        "*   For RGB images with double precision imshow assumes the convention of RGB colors in the cube $[0,1]^3$\n",
        "*   For RGB images in uint8 imshow assumes colors in the cube $[0,255]^3$\n",
        "\n",
        "The proper conversion is done by the function ```skimage.img_as_float```\n"
      ]
    },
    {
      "cell_type": "code",
      "metadata": {
        "id": "_Uml9cJNejA3"
      },
      "source": [
        "u = skimage.img_as_float(imageio.imread('parrot.bmp'))\n",
        "print(u.dtype)\n",
        "print(np.min(u),np.max(u))\n",
        "plt.imshow(u);"
      ],
      "execution_count": null,
      "outputs": []
    },
    {
      "cell_type": "markdown",
      "metadata": {
        "id": "acsHfLK2asEg"
      },
      "source": [
        "##RGB chanels:\n"
      ]
    },
    {
      "cell_type": "code",
      "metadata": {
        "id": "V5Iuc6m4e94R"
      },
      "source": [
        "u = skimage.img_as_float(imageio.imread('parrot.bmp'))\n",
        "r = u[:,:,0]\n",
        "print(r.shape)\n",
        "g = u[:,:,1]\n",
        "b = u[:,:,2]\n",
        "\n",
        "fig, axes = plt.subplots(nrows = 2, ncols=2, figsize=(10, 10))\n",
        "ax = axes.ravel()\n",
        "ax[0].imshow(u) \n",
        "ax[1].imshow(r, cmap=plt.cm.gray)\n",
        "ax[1].set_title('red')\n",
        "ax[2].imshow(g, cmap=plt.cm.gray)\n",
        "ax[2].set_title('green')\n",
        "ax[3].imshow(b, cmap=plt.cm.gray)\n",
        "ax[3].set_title('blue');\n",
        "\n"
      ],
      "execution_count": null,
      "outputs": []
    },
    {
      "cell_type": "markdown",
      "metadata": {
        "id": "os0zOKk5hGXW"
      },
      "source": [
        "###Exercise: \n",
        "\n",
        "Create the 3 RGB images rRGB, gRGB, bRGB that have the original r, g, b channels of u and the 2 other channels equal to zero.\n",
        "\n",
        "Plot the 4 (u, rRGB, gRGB, bRGB) images as above.\n",
        "\n",
        "\n"
      ]
    },
    {
      "cell_type": "code",
      "metadata": {
        "id": "F_HwXMKAh_2i"
      },
      "source": [
        "# TODO"
      ],
      "execution_count": null,
      "outputs": []
    },
    {
      "cell_type": "markdown",
      "metadata": {
        "id": "oBVIOFV3h-4J"
      },
      "source": [
        "##Convert an RGB image to a gray-level image\n",
        "\n",
        "The value of each grayscale pixel is calculated as the weighted sum of the corresponding red, green and blue pixels as:\n",
        "\n",
        "Y = 0.2125 R + 0.7154 G + 0.0721 B"
      ]
    },
    {
      "cell_type": "code",
      "metadata": {
        "id": "inYr9SqIS312"
      },
      "source": [
        "\n",
        "original = skimage.data.astronaut()\n",
        "grayscale = skimage.color.rgb2gray(original)\n",
        "\n",
        "fig, ax = plt.subplots(1, 2, figsize=(8, 4))\n",
        "\n",
        "ax[0].imshow(original)\n",
        "ax[0].set_title(\"Original\")\n",
        "ax[1].imshow(grayscale, cmap=plt.cm.gray)\n",
        "ax[1].set_title(\"Grayscale\")\n",
        "\n",
        "fig.tight_layout()\n",
        "plt.show()\n",
        "\n"
      ],
      "execution_count": null,
      "outputs": []
    },
    {
      "cell_type": "markdown",
      "metadata": {
        "id": "e-gElX6_ieh7"
      },
      "source": [
        "###Exercise:\n",
        "\n",
        "\n",
        "1.   Do the same conversion with the parrot image.\n",
        "2.   Compute the grayscale verison by a direct computation of Y = 0.2125 R + 0.7154 G + 0.0721 B and check that the two results are the same.\n",
        "\n"
      ]
    },
    {
      "cell_type": "code",
      "metadata": {
        "id": "dNOJkj6slUiD"
      },
      "source": [
        "#TODO"
      ],
      "execution_count": null,
      "outputs": []
    },
    {
      "cell_type": "markdown",
      "metadata": {
        "id": "_Ws1i_i0jR0p"
      },
      "source": [
        "##Crop a subpart of the image\n",
        "\n",
        "One can extract subpart of images using matrix extraction."
      ]
    },
    {
      "cell_type": "markdown",
      "metadata": {
        "id": "l3bvGuEIjAy1"
      },
      "source": [
        "###Exercise:\n",
        "\n",
        "\n",
        "1.   Extract a subimage that represent the head of the astronaut.\n",
        "2.   Insert the head in color version within the image in grayscale verison.\n",
        "3. (More challenging, can be skipped) Same insertion but following a round region arround the head. Hint: Create the image of a disk and use Boolean selection.\n"
      ]
    },
    {
      "cell_type": "code",
      "metadata": {
        "id": "-yo7QQiikurC"
      },
      "source": [
        "#TODO"
      ],
      "execution_count": null,
      "outputs": []
    },
    {
      "cell_type": "markdown",
      "metadata": {
        "id": "PeBnPeHilMr9"
      },
      "source": [
        ""
      ]
    }
  ]
}