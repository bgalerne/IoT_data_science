{
  "nbformat": 4,
  "nbformat_minor": 0,
  "metadata": {
    "colab": {
      "name": "1_iot_data_science.ipynb",
      "provenance": [],
      "authorship_tag": "ABX9TyOggO89O/CE8qDK2UYFCCDe",
      "include_colab_link": true
    },
    "kernelspec": {
      "name": "python3",
      "display_name": "Python 3"
    }
  },
  "cells": [
    {
      "cell_type": "markdown",
      "metadata": {
        "id": "view-in-github",
        "colab_type": "text"
      },
      "source": [
        "<a href=\"https://colab.research.google.com/github/bgalerne/IoT_data_science/blob/main/1_iot_data_science.ipynb\" target=\"_parent\"><img src=\"https://colab.research.google.com/assets/colab-badge.svg\" alt=\"Open In Colab\"/></a>"
      ]
    },
    {
      "cell_type": "markdown",
      "metadata": {
        "id": "dKqInDoVQ-xG"
      },
      "source": [
        "#Introduction to image processing\n",
        "\n",
        "In this first notebook we will work on image data, image visualization, and generating noisy images.\n",
        "\n",
        "First let us discuss python libraries\n",
        "\n"
      ]
    },
    {
      "cell_type": "code",
      "metadata": {
        "id": "ARdV4MRZQ2Hj"
      },
      "source": [
        "import numpy as np\n",
        "import matplotlib.pyplot as plt\n",
        "\n",
        "import skimage\n",
        "import imageio"
      ],
      "execution_count": null,
      "outputs": []
    },
    {
      "cell_type": "markdown",
      "metadata": {
        "id": "PSdEj6yhVKFg"
      },
      "source": [
        "Downlaod some image files:"
      ]
    },
    {
      "cell_type": "code",
      "metadata": {
        "id": "USXcgmO7VIdj"
      },
      "source": [
        "!wget \"https://www.idpoisson.fr/galerne/iot_data_science/parrot.bmp\""
      ],
      "execution_count": null,
      "outputs": []
    },
    {
      "cell_type": "code",
      "metadata": {
        "id": "r88cWkvDVwu2"
      },
      "source": [
        "u = imageio.imread('parrot.bmp')\n",
        "print(u.shape)\n",
        "print(u.dtype)\n",
        "# u is an RGB  image (3 chanels), each having size 495 x 495.\n",
        "# store this values (to adapt to other images)\n",
        "M, N, nc = u.shape\n",
        "# M is the height, N is the width (matrix convention)\n"
      ],
      "execution_count": null,
      "outputs": []
    },
    {
      "cell_type": "markdown",
      "metadata": {
        "id": "r5eXef22WcZl"
      },
      "source": [
        "#Image visualization:"
      ]
    },
    {
      "cell_type": "code",
      "metadata": {
        "id": "nrNsqDmyWZzG"
      },
      "source": [
        "plt.imshow(u);"
      ],
      "execution_count": null,
      "outputs": []
    },
    {
      "cell_type": "markdown",
      "metadata": {
        "id": "UqL-N2BjXjZ9"
      },
      "source": [
        "# Type of data: int8 VS float\n",
        "uint8 type = integers between 0 and 255. \n",
        "This is the 8-bits representation for pixel gray-level, but it is not possible to do computation with this:"
      ]
    },
    {
      "cell_type": "code",
      "metadata": {
        "id": "7l_fMa8YXnd-"
      },
      "source": [
        "x = np.array([250,30]).astype('uint8')\n",
        "print(x)\n",
        "print(x.dtype)\n",
        "s = x[0]+x[1]\n",
        "d = x[1]-x[0]\n",
        "m1 = (x[0]+x[1])/2\n",
        "m2 = x[0]/2 + x[1]/2\n",
        "print(s, d, m1, m2)"
      ],
      "execution_count": null,
      "outputs": []
    },
    {
      "cell_type": "markdown",
      "metadata": {
        "id": "8PI0buPyWHdI"
      },
      "source": [
        "Conclusion: **No processing with uint8 type**\n",
        "\n",
        "Always convert to float or double precision before any operation. \n",
        "Only use uint8 before writing image file on disk.\n"
      ]
    },
    {
      "cell_type": "code",
      "metadata": {
        "id": "kUR5AEvsZzuS"
      },
      "source": [
        "u = imageio.imread('parrot.bmp')\n",
        "print(u.shape)\n",
        "print(u.dtype)\n",
        "\n",
        "fig, axes = plt.subplots(ncols=3, figsize=(12, 4))\n",
        "axes[0].imshow(u)\n",
        "axes[1].imshow(u.astype('float64'))\n",
        "axes[2].imshow(u.astype('float64')/255)\n"
      ],
      "execution_count": null,
      "outputs": []
    },
    {
      "cell_type": "markdown",
      "metadata": {
        "id": "Alv-4fqVbznc"
      },
      "source": [
        "**Warning:**\n",
        "\n",
        "*   For RGB images with double precision imshow assumes the convention of RGB colors in the cube $[0,1]^3$\n",
        "*   For RGB images in uint8 imshow assumes colors in the cube $[0,255]^3$\n",
        "\n",
        "The proper conversion is done by the function ```skimage.img_as_float```\n"
      ]
    },
    {
      "cell_type": "code",
      "metadata": {
        "id": "_Uml9cJNejA3"
      },
      "source": [
        "u = skimage.img_as_float(imageio.imread('parrot.bmp'))\n",
        "print(u.dtype)\n",
        "print(np.min(u),np.max(u))\n",
        "plt.imshow(u);"
      ],
      "execution_count": null,
      "outputs": []
    },
    {
      "cell_type": "markdown",
      "metadata": {
        "id": "acsHfLK2asEg"
      },
      "source": [
        "#RGB chanels:\n"
      ]
    },
    {
      "cell_type": "code",
      "metadata": {
        "id": "V5Iuc6m4e94R"
      },
      "source": [
        "u = skimage.img_as_float(imageio.imread('parrot.bmp'))\n",
        "r = u[:,:,0]\n",
        "print(r.shape)\n",
        "g = u[:,:,1]\n",
        "b = u[:,:,2]\n",
        "\n",
        "fig, axes = plt.subplots(nrows = 2, ncols=2, figsize=(10, 10))\n",
        "ax = axes.ravel()\n",
        "ax[0].imshow(u) \n",
        "ax[1].imshow(r, cmap=plt.cm.gray)\n",
        "ax[1].set_title('red')\n",
        "ax[2].imshow(g, cmap=plt.cm.gray)\n",
        "ax[2].set_title('green')\n",
        "ax[3].imshow(b, cmap=plt.cm.gray)\n",
        "ax[3].set_title('blue');\n",
        "\n"
      ],
      "execution_count": null,
      "outputs": []
    },
    {
      "cell_type": "markdown",
      "metadata": {
        "id": "os0zOKk5hGXW"
      },
      "source": [
        "###Exercise: \n",
        "\n",
        "Create the 3 RGB images rRGB, gRGB, bRGB that have the original r, g, b channels of u and the 2 other channels equal to zero.\n",
        "\n",
        "Plot the 4 (u, rRGB, gRGB, bRGB) images as above.\n",
        "\n",
        "\n"
      ]
    },
    {
      "cell_type": "code",
      "metadata": {
        "id": "F_HwXMKAh_2i"
      },
      "source": [
        "# TODO"
      ],
      "execution_count": null,
      "outputs": []
    },
    {
      "cell_type": "markdown",
      "metadata": {
        "id": "oBVIOFV3h-4J"
      },
      "source": [
        "#Convert an RGB image to a gray-level image\n",
        "\n",
        "The value of each grayscale pixel is calculated as the weighted sum of the corresponding red, green and blue pixels as:\n",
        "\n",
        "Y = 0.2125 R + 0.7154 G + 0.0721 B"
      ]
    },
    {
      "cell_type": "code",
      "metadata": {
        "id": "inYr9SqIS312"
      },
      "source": [
        "\n",
        "original = skimage.data.astronaut()\n",
        "grayscale = skimage.color.rgb2gray(original)\n",
        "\n",
        "fig, ax = plt.subplots(1, 2, figsize=(8, 4))\n",
        "ax[0].imshow(original)\n",
        "ax[0].set_title(\"Original\")\n",
        "ax[1].imshow(grayscale, cmap=plt.cm.gray)\n",
        "ax[1].set_title(\"Grayscale\")\n",
        "\n",
        "fig.tight_layout()\n",
        "plt.show()\n",
        "\n"
      ],
      "execution_count": null,
      "outputs": []
    },
    {
      "cell_type": "markdown",
      "metadata": {
        "id": "e-gElX6_ieh7"
      },
      "source": [
        "###Exercise:\n",
        "\n",
        "\n",
        "1.   Do the same conversion with the parrot image.\n",
        "2.   Compute the grayscale version by a direct computation of Y = 0.2125 R + 0.7154 G + 0.0721 B and check that the two results are the same.\n",
        "\n"
      ]
    },
    {
      "cell_type": "code",
      "metadata": {
        "id": "dNOJkj6slUiD"
      },
      "source": [
        "#TODO"
      ],
      "execution_count": null,
      "outputs": []
    },
    {
      "cell_type": "markdown",
      "metadata": {
        "id": "-3PU0UqIedSg"
      },
      "source": [
        "#True contrast for image visualization:\n",
        "\n",
        "By default, imshow use a maximal linear contrast to display gray-level images.\n",
        "This means that the minimal gray-level is affected to black=0 and the maximal gray-level is affected to white=1."
      ]
    },
    {
      "cell_type": "code",
      "metadata": {
        "id": "z5ENDGjKe--G"
      },
      "source": [
        "original = skimage.data.astronaut()\n",
        "grayscale = skimage.color.rgb2gray(original)\n",
        "darker = 0.6*grayscale\n",
        "\n",
        "fig, ax = plt.subplots(1, 2, figsize=(8, 4))\n",
        "ax[0].imshow(grayscale, cmap=plt.cm.gray)\n",
        "ax[0].set_title(\"Grayscale\")\n",
        "ax[1].imshow(darker, cmap=plt.cm.gray)\n",
        "ax[1].set_title(\"Darker grayscale?\")\n",
        "\n",
        "fig.tight_layout()\n",
        "plt.show()"
      ],
      "execution_count": null,
      "outputs": []
    },
    {
      "cell_type": "markdown",
      "metadata": {
        "id": "suPzflAje9zM"
      },
      "source": [
        "Here both images have exactly the same display but not the same gray-level values!\n",
        "\n",
        "Let us add colorbars to see what happends."
      ]
    },
    {
      "cell_type": "code",
      "metadata": {
        "id": "7BhOOHEVfx3C"
      },
      "source": [
        "original = skimage.data.astronaut()\n",
        "grayscale = skimage.color.rgb2gray(original)\n",
        "darker = 0.6*grayscale\n",
        "\n",
        "fig, ax = plt.subplots(1, 2, figsize=(8, 4))\n",
        "im0 = ax[0].imshow(grayscale, cmap=plt.cm.gray)\n",
        "ax[0].set_title(\"Grayscale\")\n",
        "plt.colorbar(im0,ax=ax[0])\n",
        "im1 = ax[1].imshow(darker, cmap=plt.cm.gray)\n",
        "ax[1].set_title(\"Darker grayscale?\")\n",
        "plt.colorbar(im1,ax=ax[1])\n",
        "\n",
        "fig.tight_layout()\n",
        "plt.show()"
      ],
      "execution_count": null,
      "outputs": []
    },
    {
      "cell_type": "markdown",
      "metadata": {
        "id": "G_6XcLmLe6p6"
      },
      "source": [
        "The advantage of this is to be able to visualize images whatever their range, eg a noise image with negative value and small variance:"
      ]
    },
    {
      "cell_type": "code",
      "metadata": {
        "id": "peW40rZ9gf3y"
      },
      "source": [
        "plt.imshow(np.random.randn(50,70))\n",
        "plt.gray()\n",
        "plt.colorbar()"
      ],
      "execution_count": null,
      "outputs": []
    },
    {
      "cell_type": "markdown",
      "metadata": {
        "id": "gKbIDHBuhGlW"
      },
      "source": [
        "However one often needs to look at \"true\" gray-levels to compare images. This is done by precising that the the min gray-level is 0 and the max gray-level is 1."
      ]
    },
    {
      "cell_type": "code",
      "metadata": {
        "id": "2ytLXM69gf6S"
      },
      "source": [
        "original = skimage.data.astronaut()\n",
        "grayscale = skimage.color.rgb2gray(original)\n",
        "darker = 0.6*grayscale\n",
        "\n",
        "fig, ax = plt.subplots(1, 2, figsize=(8, 4))\n",
        "im0 = ax[0].imshow(grayscale, cmap=plt.cm.gray)\n",
        "im0.set_clim(0,1)\n",
        "ax[0].set_title(\"Grayscale\")\n",
        "plt.colorbar(im0,ax=ax[0])\n",
        "im1 = ax[1].imshow(darker, cmap=plt.cm.gray)\n",
        "im1.set_clim(0,1)\n",
        "ax[1].set_title(\"Darker grayscale?\")\n",
        "plt.colorbar(im1,ax=ax[1])\n",
        "\n",
        "fig.tight_layout()\n",
        "plt.show()"
      ],
      "execution_count": null,
      "outputs": []
    },
    {
      "cell_type": "markdown",
      "metadata": {
        "id": "_Ws1i_i0jR0p"
      },
      "source": [
        "#Crop a subpart of an image\n",
        "\n",
        "One can extract subpart of images using matrix extraction."
      ]
    },
    {
      "cell_type": "markdown",
      "metadata": {
        "id": "l3bvGuEIjAy1"
      },
      "source": [
        "###Exercise:\n",
        "\n",
        "\n",
        "1.   Extract a subimage that represents the head of the astronaut.\n",
        "2.   Insert the head in color version within the image in grayscale version.\n",
        "3. (More challenging, can be skipped) Same insertion but following a round region arround the head. Hint: Create the image of a disk and use Boolean selection.\n"
      ]
    },
    {
      "cell_type": "code",
      "metadata": {
        "id": "-yo7QQiikurC"
      },
      "source": [
        "#TODO"
      ],
      "execution_count": null,
      "outputs": []
    },
    {
      "cell_type": "markdown",
      "metadata": {
        "id": "PeBnPeHilMr9"
      },
      "source": [
        "#Noise\n",
        "\n",
        "Let us add a Gaussian noise to a graylevel image."
      ]
    },
    {
      "cell_type": "code",
      "metadata": {
        "id": "JXdReefzXZQk"
      },
      "source": [
        "original = skimage.data.chelsea()\n",
        "grayscale = skimage.color.rgb2gray(original)\n",
        "M, N = grayscale.shape\n",
        "\n",
        "sigma = 0.15\n",
        "#noisy = skimage.util.random_noise(grayscale, var=sigma**2)\n",
        "noisy = grayscale + sigma*np.random.randn(M,N)\n",
        "\n",
        "fig, ax = plt.subplots(1, 2, figsize=(12, 6))\n",
        "\n",
        "im0 = ax[0].imshow(grayscale, cmap=plt.cm.gray)\n",
        "ax[0].set_title(\"Grayscale\")\n",
        "im0.set_clim(0,1)\n",
        "plt.colorbar(im0,ax=ax[0])\n",
        "im1 = ax[1].imshow(noisy, cmap=plt.cm.gray)\n",
        "ax[1].set_title(\"Noisy\")\n",
        "im1.set_clim(0,1)\n",
        "plt.colorbar(im1,ax=ax[1])\n",
        "\n",
        "\n",
        "fig.tight_layout()\n",
        "plt.show()\n",
        "\n"
      ],
      "execution_count": null,
      "outputs": []
    },
    {
      "cell_type": "markdown",
      "metadata": {
        "id": "9PrfZKjfkQbt"
      },
      "source": [
        "###Exercise:\n",
        "Use the function ```skimage.util.random_noise()``` to add:\n",
        "\n",
        "*   additive Gaussian noise with sigma = 0.2\n",
        "*   Poisson noise:\n",
        "Given on image $u$ in with graylevels in $[0,1]$ and an integer $N$, generate the image:\n",
        "$$\n",
        "n_u(i,j) = P(i,j)/N ~\\text{where}~ P(i,j)\\sim \\mathcal{P}(N u(i,j)). \n",
        "$$\n",
        "Use the function ```np.random.poisson```.\n",
        "What is the mean and variance of $n_u(i,j)$?\n",
        "*   Salt & pepper noise with 10% of occurency: Each pixel is either randomly black or white with a probability of 10%.\n",
        "Do it from **scratch** or use ```skimage.util.random_noise```\n",
        "\n",
        "Present the original and the three noisy images in a single figure.\n",
        "\n",
        "Note that to use the poisson noise from ```skimage.util.random_noise``` requires to quantize the image first.\n"
      ]
    },
    {
      "cell_type": "code",
      "metadata": {
        "id": "jH6EdDE9qt21"
      },
      "source": [
        "#TODO."
      ],
      "execution_count": null,
      "outputs": []
    },
    {
      "cell_type": "markdown",
      "metadata": {
        "id": "gtu7qCkUwv2Y"
      },
      "source": [
        "# Image Quantization\n",
        "\n",
        "Image quantization consists in reducing the set of gray levels used to\n",
        "represent the image.\n",
        "This operation is useful for displaying an image _u_ on a screen that \n",
        "supports a smaller number of colors \n",
        "(this is needed with a standard screen if _u_ is coded on more than 8 bits per chanel).\n",
        "\n",
        "Uniform quantization consists in dividing the set of 256 levels\n",
        "$$ \\{0,...,255\\}/255 $$\n",
        "\n",
        "into $K < 256$ regions.\n",
        "\n",
        "###Exercise:\n",
        "\n",
        "1. Define a function ```quantize_img(u,K)```that returns the quantization of $u$ into $K$ gray-levels using a rounding function.\n",
        "\n",
        "2. For which value of _K_ do you start to see a difference with the original image ? \n",
        "\n",
        "\n",
        "\n"
      ]
    },
    {
      "cell_type": "code",
      "metadata": {
        "id": "uMUGUGYrw5qT"
      },
      "source": [
        "#TODO"
      ],
      "execution_count": null,
      "outputs": []
    },
    {
      "cell_type": "markdown",
      "metadata": {
        "id": "LXgAXN1byBfo"
      },
      "source": [
        "# Dithering:\n",
        "Dithering consists in adding intentionnally noise to an image before quantization, in order to perceptually hide the quantization effects.\n",
        "\n",
        "###Exercise:\n",
        "With a quantization of $K=10$, compare the quantized result of $u$ and $u$\n",
        "corrupted with additional Gaussian white noise.\n",
        "\n",
        "For which range of standard deviation do you think the result is more pleasant?\n"
      ]
    },
    {
      "cell_type": "code",
      "metadata": {
        "id": "fBsFaDXzyXja"
      },
      "source": [
        "#TODO"
      ],
      "execution_count": null,
      "outputs": []
    },
    {
      "cell_type": "markdown",
      "metadata": {
        "id": "vrAdxCY50yUH"
      },
      "source": [
        "#Credits:\n",
        "Some parts of this practical session are inspired by: Julie Delon's \"Introduction to image processing - Radiometry\": \n",
        "http://w3.mi.parisdescartes.fr/~jdelon/enseignement/tp_image/org/TP_radiometrie.html\n"
      ]
    }
  ]
}