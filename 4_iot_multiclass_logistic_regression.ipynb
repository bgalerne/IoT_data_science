{
  "nbformat": 4,
  "nbformat_minor": 0,
  "metadata": {
    "colab": {
      "name": "4_iot_multiclass_logistic_regression.ipynb",
      "provenance": [],
      "collapsed_sections": [],
      "authorship_tag": "ABX9TyMkk4gjE4tGgUldjvAYoIfl",
      "include_colab_link": true
    },
    "kernelspec": {
      "name": "python3",
      "display_name": "Python 3"
    }
  },
  "cells": [
    {
      "cell_type": "markdown",
      "metadata": {
        "id": "view-in-github",
        "colab_type": "text"
      },
      "source": [
        "<a href=\"https://colab.research.google.com/github/bgalerne/IoT_data_science/blob/main/4_iot_multiclass_logistic_regression.ipynb\" target=\"_parent\"><img src=\"https://colab.research.google.com/assets/colab-badge.svg\" alt=\"Open In Colab\"/></a>"
      ]
    },
    {
      "cell_type": "markdown",
      "metadata": {
        "id": "NHDqo7H0ymzd"
      },
      "source": [
        " # Multiclass logistic regression\n",
        " Goal:\n",
        " 1. Define functions for training a multiclass logistic regression \n",
        " 1. Train the classifier using gradient descent\n",
        " 1. Visualize a multi-class logisitc regression for 2D data\n",
        " 1. (TODO) Test different feature transforms\n",
        " 1. (TODO) Implement averaged stochastic gradient descent \n",
        "\n",
        " **Reference:**\n",
        " Section \"4.3.4 Multiclass logistic regression\"\n",
        " of \n",
        " \n",
        " C. M. Bishop *Pattern Recognition and Machine Learning*,\n",
        "Information Science and Statistics, Springer, 2006\n",
        "\n",
        "Freely available:\n",
        "https://www.microsoft.com/en-us/research/people/cmbishop/prml-book/\n"
      ]
    },
    {
      "cell_type": "code",
      "metadata": {
        "id": "2vWdx2AvyGMg"
      },
      "source": [
        "import numpy as np\n",
        "import matplotlib.pyplot as plt\n",
        "from matplotlib.colors import ListedColormap\n",
        "from sklearn.datasets import make_moons, make_circles, make_classification, make_blobs, make_gaussian_quantiles\n",
        "from sklearn import metrics\n",
        "from sklearn.model_selection import train_test_split\n",
        "from sklearn.preprocessing import StandardScaler"
      ],
      "execution_count": null,
      "outputs": []
    },
    {
      "cell_type": "markdown",
      "metadata": {
        "id": "M1vvMSquZKPz"
      },
      "source": [
        "# Create some toy dataset:"
      ]
    },
    {
      "cell_type": "code",
      "metadata": {
        "id": "qzWqv9vv0e9a",
        "colab": {
          "base_uri": "https://localhost:8080/",
          "height": 609
        },
        "outputId": "29d6701b-7317-4d0b-8666-e6811289d5aa"
      },
      "source": [
        "n_class = 3\n",
        "# Three examples of synthetic 2D datasets:\n",
        "X, t = make_blobs(n_features=2, centers = n_class,n_samples=100) \n",
        "#X, t = make_classification(n_features=2, n_redundant=0, n_informative=2, random_state=24, n_classes=n_class, n_clusters_per_class=1,n_samples=200)\n",
        "#X, t = make_gaussian_quantiles(n_features=2, n_classes=n_class, n_samples=500)\n",
        "\n",
        "X = StandardScaler().fit_transform(X)\n",
        "print(X.shape)\n",
        "\n",
        "X_train, X_test, t_train, t_test = train_test_split(X, t, test_size=.4, random_state=12)\n",
        "\n",
        "figure = plt.figure(figsize=(10, 10))\n",
        "plt.scatter(X_train[:, 0], X_train[:, 1], marker='o', c=t_train, s=50, edgecolor='k')\n",
        "plt.scatter(X_test[:, 0], X_test[:, 1], marker='P', c=t_test, s=50, edgecolor='k')\n",
        "\n",
        "N_train = X_train.shape[0]\n",
        "N_test = X_test.shape[0]"
      ],
      "execution_count": null,
      "outputs": [
        {
          "output_type": "stream",
          "text": [
            "(100, 2)\n"
          ],
          "name": "stdout"
        },
        {
          "output_type": "display_data",
          "data": {
            "image/png": "[encoded data removed]",
            "text/plain": [
              "<Figure size 720x720 with 1 Axes>"
            ]
          },
          "metadata": {
            "tags": [],
            "needs_background": "light"
          }
        }
      ]
    },
    {
      "cell_type": "markdown",
      "metadata": {
        "id": "dwsoKyCtQH5T"
      },
      "source": [
        "\n",
        "\n",
        "## Apply feature transform:\n"
      ]
    },
    {
      "cell_type": "code",
      "metadata": {
        "id": "8V-HnaFy7uI6",
        "colab": {
          "base_uri": "https://localhost:8080/"
        },
        "outputId": "3e3f9863-3221-43b0-b05a-5567e28ba6be"
      },
      "source": [
        "\n",
        "# Define some feature transforms:\n",
        "\n",
        "def identity(x):\n",
        "  return(np.hstack((x, np.ones((x.shape[0],1)))))\n",
        "\n",
        "def feat_transform_2D_prod(x):\n",
        "  return np.hstack( (x, x**2, (x[:,0]*x[:,1]).reshape((x.shape[0],1)), np.ones((x.shape[0],1))))\n",
        "\n",
        "feature_transform = identity\n",
        "#feature_transform = feat_transform_2D_prod\n",
        "\n",
        "\n",
        "\n",
        "Phi_train = feature_transform(X_train)\n",
        "n_feat = Phi_train.shape[1]\n",
        "print('n_feat = ', n_feat)\n",
        "Phi_test = feature_transform(X_test)\n"
      ],
      "execution_count": null,
      "outputs": [
        {
          "output_type": "stream",
          "text": [
            "n_feat =  3\n"
          ],
          "name": "stdout"
        }
      ]
    },
    {
      "cell_type": "markdown",
      "metadata": {
        "id": "OUCXxE2TQPrX"
      },
      "source": [
        "## Functions for Multiclass logistic regression:\n"
      ]
    },
    {
      "cell_type": "code",
      "metadata": {
        "id": "ZwcajoX759ay"
      },
      "source": [
        "# - W is the matrix of size n_feat x n_class\n",
        "\n",
        "def soft_max(W, Phi):\n",
        "  # evaluate the softmax vector for a list of feature points phi (given in line) \n",
        "  a = W.transpose() @ Phi.transpose() \n",
        "  y = np.exp(a)\n",
        "  s = np.sum(y,axis=0)\n",
        "  y = (y/s).transpose() # return line for consistency with sklearn\n",
        "  return(y)\n",
        "\n",
        "def predicted_class(W,Phi):\n",
        "  y = soft_max(W, Phi)\n",
        "  if Phi.ndim==1:\n",
        "    pred = np.argmax(y)\n",
        "  else:\n",
        "    pred = np.argmax(y,axis=1)\n",
        "  return(pred)\n",
        "\n",
        "def mloglikelihood(W, Phi, t):\n",
        "  y = soft_max(W, Phi)\n",
        "  # extract values of softmax for the class k=t\n",
        "  if t.ndim == 0:\n",
        "    y = y[t]\n",
        "    L = np.log(y)\n",
        "  else:\n",
        "    y = y[np.arange(Phi.shape[0]),t]\n",
        "    L = - np.sum(np.log(y))\n",
        "  return(L)\n",
        "\n",
        "def gradmloglikelihood(W, Phi, t):\n",
        "  y = soft_max(W, Phi)\n",
        "  # extract values of softmax for the class k=t\n",
        "  if t.ndim == 0:\n",
        "    y[t] -= 1\n",
        "    y.shape = (n_class,1)\n",
        "    Phi.shape = (1,n_feat)\n",
        "    g = y @ Phi\n",
        "  else:\n",
        "    y[np.arange(Phi.shape[0]),t] = y[np.arange(Phi.shape[0]),t] - 1\n",
        "    #print(y.shape)\n",
        "    #print(Phi.shape)\n",
        "    g = y.transpose() @ Phi\n",
        "  return(g.transpose())\n",
        "\n"
      ],
      "execution_count": null,
      "outputs": []
    },
    {
      "cell_type": "markdown",
      "metadata": {
        "id": "1PeDH1IxQUPA"
      },
      "source": [
        "## Training with gradient descent on full dataset"
      ]
    },
    {
      "cell_type": "code",
      "metadata": {
        "id": "eOXP7T3aaxrG"
      },
      "source": [
        "# random initialization:\n",
        "W = np.random.random((n_feat,n_class))\n"
      ],
      "execution_count": null,
      "outputs": []
    },
    {
      "cell_type": "code",
      "metadata": {
        "id": "-NChi0BqOsvz",
        "colab": {
          "base_uri": "https://localhost:8080/"
        },
        "outputId": "e804a691-f3f9-4eae-ddfc-e7f470ff8357"
      },
      "source": [
        "# run Nit iterations of gradient descent (can be done several times if convergence is not observed):\n",
        "lr = 1/N_train\n",
        "Nit = 10**3\n",
        "print('n = ', 0, ' F(W) = ', mloglikelihood(W, Phi_train, t_train))\n",
        "for n in range(Nit):\n",
        "  W -= lr*gradmloglikelihood(W, Phi_train, t_train)\n",
        "  if n%(Nit//10)==(Nit//10-1):\n",
        "    print('n = ', n, ' F(W) = ', mloglikelihood(W, Phi_train, t_train))\n"
      ],
      "execution_count": null,
      "outputs": [
        {
          "output_type": "stream",
          "text": [
            "n =  0  F(W) =  8.937059711419087\n",
            "n =  99  F(W) =  8.907650401517403\n",
            "n =  199  F(W) =  8.885135106032502\n",
            "n =  299  F(W) =  8.867649378827027\n",
            "n =  399  F(W) =  8.853896338298721\n",
            "n =  499  F(W) =  8.842954614372422\n",
            "n =  599  F(W) =  8.834157695927932\n",
            "n =  699  F(W) =  8.82701585891368\n",
            "n =  799  F(W) =  8.82116434442596\n",
            "n =  899  F(W) =  8.816328190901345\n",
            "n =  999  F(W) =  8.812297901165055\n"
          ],
          "name": "stdout"
        }
      ]
    },
    {
      "cell_type": "markdown",
      "metadata": {
        "id": "vQ5moiFtSR2U"
      },
      "source": [
        "## Classifier prediction:"
      ]
    },
    {
      "cell_type": "code",
      "metadata": {
        "id": "xrtNLDeP3yUj",
        "colab": {
          "base_uri": "https://localhost:8080/"
        },
        "outputId": "f22decb7-1348-4577-bbf1-267766a24659"
      },
      "source": [
        "print(W.shape)\n",
        "print(Phi_test.shape)\n",
        "\n",
        "pred = predicted_class(W,Phi_test)\n",
        "\n",
        "\n",
        "print('pred: ', pred[:30])\n",
        "print('true: ', t_test[:30])\n"
      ],
      "execution_count": null,
      "outputs": [
        {
          "output_type": "stream",
          "text": [
            "(3, 3)\n",
            "(40, 3)\n",
            "pred:  [0 0 0 0 1 1 2 1 2 1 0 1 2 0 0 0 0 0 1 1 2 0 1 0 2 2 2 1 2 2]\n",
            "true:  [0 0 0 0 1 1 2 1 2 1 0 2 2 0 0 0 0 0 1 1 2 0 1 0 1 2 2 1 2 2]\n"
          ],
          "name": "stdout"
        }
      ]
    },
    {
      "cell_type": "markdown",
      "metadata": {
        "id": "aGEG_ouITNj0"
      },
      "source": [
        "## Visualize classifiction regions:\n"
      ]
    },
    {
      "cell_type": "code",
      "metadata": {
        "id": "KRRxPsI2Amdd",
        "colab": {
          "base_uri": "https://localhost:8080/",
          "height": 550
        },
        "outputId": "ba676cb0-12c5-42cf-e97e-638a4af91110"
      },
      "source": [
        "#visualize results:\n",
        "\n",
        "x_min, x_max = X[:, 0].min() - .5, X[:, 0].max() + .5\n",
        "y_min, y_max = X[:, 1].min() - .5, X[:, 1].max() + .5\n",
        "h = 0.02\n",
        "xx, yy = np.meshgrid(np.arange(x_min, x_max, h),\n",
        "                        np.arange(y_min, y_max, h))\n",
        "X_grid = np.hstack((xx.ravel(), yy.ravel()))\n",
        "print(X_grid.shape)\n",
        "N_grid = xx.ravel().shape[0]\n",
        "X_grid = np.c_[xx.ravel(), yy.ravel()]\n",
        "Phi_grid = feature_transform(X_grid)\n",
        "print(Phi_grid.shape)\n",
        "Z = predicted_class(W,Phi_grid)\n",
        "Z = Z.reshape(xx.shape)\n",
        "\n",
        "figure = plt.figure(figsize=(16, 8))\n",
        "ax = plt.subplot(1,2,1)\n",
        "ax.set_title(\"Input data\")\n",
        "ax.scatter(X_train[:, 0], X_train[:, 1], marker='o', c=t_train, s=50, edgecolor='k')\n",
        "ax.scatter(X_test[:, 0], X_test[:, 1], marker='P', c=t_test, s=50, edgecolor='k')\n",
        "ax = plt.subplot(1,2,2)\n",
        "cmap = ListedColormap(['b','y','r','m','g','c'])\n",
        "plt.contourf(xx,yy,Z,  cmap = cmap, alpha=.8)\n",
        "ax.scatter(X_train[:, 0], X_train[:, 1], marker='o', c=t_train, s=50, edgecolor='k')\n",
        "ax.scatter(X_test[:, 0], X_test[:, 1], marker='P', c=t_test, s=50, edgecolor='k')\n"
      ],
      "execution_count": null,
      "outputs": [
        {
          "output_type": "stream",
          "text": [
            "(86524,)\n",
            "(43262, 3)\n"
          ],
          "name": "stdout"
        },
        {
          "output_type": "execute_result",
          "data": {
            "text/plain": [
              "<matplotlib.collections.PathCollection at 0x7f1ca5f6eef0>"
            ]
          },
          "metadata": {
            "tags": []
          },
          "execution_count": 15
        },
        {
          "output_type": "display_data",
          "data": {
            "image/png": "[encoded data removed]",
            "text/plain": [
              "<Figure size 1152x576 with 2 Axes>"
            ]
          },
          "metadata": {
            "tags": [],
            "needs_background": "light"
          }
        }
      ]
    },
    {
      "cell_type": "markdown",
      "metadata": {
        "id": "g0FFJrhsS1EG"
      },
      "source": [
        "## Classifier performance:\n",
        "\n",
        "**Exercise**\n",
        "Evaluate the performance of the classifier using the functions:\n",
        "\n",
        "```\n",
        "from sklearn.metrics import classification_report\n",
        "from sklearn.metrics import confusion_matrix, ConfusionMatrixDisplay\n",
        "```"
      ]
    },
    {
      "cell_type": "code",
      "metadata": {
        "id": "PNgRPuFgTL-H"
      },
      "source": [
        "# TODO:"
      ],
      "execution_count": null,
      "outputs": []
    },
    {
      "cell_type": "markdown",
      "metadata": {
        "id": "8t32vErehnQS"
      },
      "source": [
        "## Importance of feature transform:"
      ]
    },
    {
      "cell_type": "markdown",
      "metadata": {
        "id": "ddYNPUDwZq_u"
      },
      "source": [
        "**Exercice**\n",
        "With the ```gaussian_quantiles``` dataset\n",
        "1. Test the classifier with the provided feature transform ```identity```. Explain the results.\n",
        "2. Test the classifier with the provided feature transform ```feat_transform_2D_prod```. Explain the results.\n",
        "2. Define a feature transform that would correspond to a linear hidden layer with $d=25$ hidden nodes that applies a linear+ReLU where each weight and bias parameter is drawn randomly according to a standard Gaussian distribution (iid entries, fixed and used for all points). What can you expect for the performance of a neural network and this dataset?\n"
      ]
    },
    {
      "cell_type": "markdown",
      "metadata": {
        "id": "VaFlWpGxUELg"
      },
      "source": [
        "## Stochastic gradient descent:"
      ]
    },
    {
      "cell_type": "markdown",
      "metadata": {
        "id": "l8AjzL2drN90"
      },
      "source": [
        "**Exercise:**\n",
        "\n",
        "1. Implement an average stochastic gradient descent for solving the optimization problem:\n",
        "\n",
        " *At each step:*\n",
        " * randomly draw $b=10$ examples of the dataset and use it for a noisy gradient estimate (use eg ```np.random.choice```).\n",
        " * Compute the new weight $W^{(n)}$ and the average weights $\\bar{W}^{(n)}$ defined by\n",
        "$$\n",
        "W^{(n)} = W^{(n-1)} - \\tau \\nabla F(W^{(n-1)})\n",
        "$$\n",
        "$$\n",
        "\\bar{W}^{(n)} = \\frac{1}{n+1} \\sum_{k=0}^{n} W^{(k)} = \\frac{n}{n+1}\\bar{W}^{(n-1)} + \\frac{1}{n+1}W^{(n)}.\n",
        "$$\n",
        "\n",
        "2. Test that the results of the average stochastic gradient procedure are similar than the ones without random selection.\n",
        "\n"
      ]
    },
    {
      "cell_type": "code",
      "metadata": {
        "id": "98wStaWlsAFb"
      },
      "source": [
        "#TODO.\n",
        "\n",
        "\n",
        "\n",
        "\n",
        "\n",
        "\n",
        "\n",
        "\n",
        "\n",
        "\n",
        "\n",
        "\n",
        "\n",
        "\n",
        "\n",
        "\n",
        "\n",
        "\n",
        "\n",
        "\n",
        "\n",
        "\n",
        "\n",
        "\n",
        "\n",
        "\n",
        "\n",
        "\n"
      ],
      "execution_count": null,
      "outputs": []
    },
    {
      "cell_type": "markdown",
      "metadata": {
        "id": "6WGbBhCd_O32"
      },
      "source": [
        "If time allows please go through the \"Tensors\" part of \n",
        "DEEP LEARNING WITH PYTORCH: A 60 MINUTE BLITZ\n",
        "https://pytorch.org/tutorials/beginner/deep_learning_60min_blitz.html\n",
        "\n",
        "The notebook is here:\n",
        "https://pytorch.org/tutorials/beginner/blitz/tensor_tutorial.html#sphx-glr-beginner-blitz-tensor-tutorial-py\n",
        "\n",
        "There is a \"run in Google Colab\" button.\n"
      ]
    },
    {
      "cell_type": "code",
      "metadata": {
        "id": "a0Xs64ML_zFY"
      },
      "source": [
        "\n",
        "\n",
        "\n",
        "\n",
        "\n",
        "\n",
        "\n",
        "\n",
        "\n",
        "\n",
        "\n",
        "\n",
        "\n",
        "\n",
        "\n",
        "\n",
        "\n",
        "\n"
      ],
      "execution_count": null,
      "outputs": []
    },
    {
      "cell_type": "code",
      "metadata": {
        "id": "3BBVocwLsAb_"
      },
      "source": [
        "# Cell for tests\n",
        "print(W)\n",
        "print('Tests of soft_max')\n",
        "print(soft_max(W, Phi_train[0,:]))\n",
        "print(soft_max(W, Phi_train[1,:]))\n",
        "print(soft_max(W, Phi_train[0:2,:]))\n",
        "print('\\nTests of mloglikelihood')\n",
        "print(mloglikelihood(W, Phi_train[0,:], t_train[0]))\n",
        "print(mloglikelihood(W, Phi_train[0:2,:], t_train[0:2]))\n",
        "print(mloglikelihood(W, Phi_train, t_train))\n",
        "print('\\nTests of gradmloglikelihood')\n",
        "print(gradmloglikelihood(W, Phi_train, t_train))\n",
        "print(gradmloglikelihood(W, Phi_train[0,:], t_train[0]))\n"
      ],
      "execution_count": null,
      "outputs": []
    }
  ]
}