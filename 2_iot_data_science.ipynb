{
  "nbformat": 4,
  "nbformat_minor": 0,
  "metadata": {
    "colab": {
      "name": "2_iot_data_science.ipynb",
      "provenance": [],
      "authorship_tag": "ABX9TyNxG8IZotwdiRX068b9nUFu",
      "include_colab_link": true
    },
    "kernelspec": {
      "name": "python3",
      "display_name": "Python 3"
    }
  },
  "cells": [
    {
      "cell_type": "markdown",
      "metadata": {
        "id": "view-in-github",
        "colab_type": "text"
      },
      "source": [
        "<a href=\"https://colab.research.google.com/github/bgalerne/IoT_data_science/blob/main/2_iot_data_science.ipynb\" target=\"_parent\"><img src=\"https://colab.research.google.com/assets/colab-badge.svg\" alt=\"Open In Colab\"/></a>"
      ]
    },
    {
      "cell_type": "markdown",
      "metadata": {
        "id": "dKqInDoVQ-xG"
      },
      "source": [
        "#Introduction to image processing: Histogram and spatial filtering\n",
        "\n",
        "In this second notebook we will work on:\n",
        "1. Histogram manipulation\n",
        "2. Linear filtering\n",
        "3. Non linear filtering for image denoising\n",
        "\n"
      ]
    },
    {
      "cell_type": "code",
      "metadata": {
        "id": "ARdV4MRZQ2Hj"
      },
      "source": [
        "import numpy as np\n",
        "import matplotlib.pyplot as plt\n",
        "\n",
        "import skimage\n",
        "import skimage.color\n",
        "\n",
        "import imageio\n"
      ],
      "execution_count": null,
      "outputs": []
    },
    {
      "cell_type": "markdown",
      "metadata": {
        "id": "PSdEj6yhVKFg"
      },
      "source": [
        "Downlaod some image files:"
      ]
    },
    {
      "cell_type": "code",
      "metadata": {
        "id": "USXcgmO7VIdj"
      },
      "source": [
        "!wget \"https://www.idpoisson.fr/galerne/iot_data_science/parrot.bmp\"\n",
        "!wget \"https://www.idpoisson.fr/galerne/iot_data_science/piano.png\"\n",
        "!wget \"https://www.idpoisson.fr/galerne/iot_data_science/buenosaires3.bmp\"\n",
        "!wget \"https://www.idpoisson.fr/galerne/iot_data_science/buenosaires4.bmp\""
      ],
      "execution_count": null,
      "outputs": []
    },
    {
      "cell_type": "markdown",
      "metadata": {
        "id": "JYNB4-lFGYKT"
      },
      "source": [
        "# Histogram and visualization\n",
        "\n",
        "## Histogram stretching\n",
        "\n",
        "Histogram stretching consists in applying an affine contrast change to map the minimal gray-level to 0 and the maximal gray-level to 1 (or 255).\n",
        "\n",
        "**Exercise:** \n",
        "1. Define a function imstretch that given an image u returns the image ustretch = a * (u - b) (with constants a and b\n",
        "to determine on paper) such that min(ustretch) = 0 and \n",
        "max(ustretch) = 1.\n",
        "2. Apply the function to \n",
        "\n",
        "\n",
        "  ```\n",
        "  u = 0.5 + 10./255.*np.random.randn(256,256)\n",
        "  ```\n",
        "  and visualize ```u``` and its stretched version. \n",
        "\n",
        "**Recall from Lab session #1:** By default, ```plt.imshow```applies histogram stretching, one needs to use ```.set_clim(0,1)``` to display true gray-levels.\n",
        "\n",
        "\n"
      ]
    },
    {
      "cell_type": "code",
      "metadata": {
        "id": "2gA6VTM2ZMmP"
      },
      "source": [
        "#TODO:"
      ],
      "execution_count": null,
      "outputs": []
    },
    {
      "cell_type": "markdown",
      "metadata": {
        "id": "5zhHMlZZaiCS"
      },
      "source": [
        "## Logarithmic contrast change\n",
        "\n",
        "Linear stretching is used to visualized any data, possibly with negative\n",
        "values (as we did for noise images, difference between images, etc.).\n",
        "Sometimes when values have different order of magnitudes, stretching is\n",
        "not sufficient to visualize data.\n",
        "Here is an example with the modulus of the discrete Fourier transform of\n",
        "an image:\n",
        "\n"
      ]
    },
    {
      "cell_type": "code",
      "metadata": {
        "id": "uzBTC_C7bUie"
      },
      "source": [
        "imgrgb = skimage.img_as_float(imageio.imread('parrot.bmp'))\n",
        "imggray = skimage.color.rgb2gray(imgrgb)\n",
        "moddft = np.abs(np.fft.fftshift(np.fft.fft2(imggray)))\n",
        "\n",
        "\n",
        "fig, ax = plt.subplots(1, 2, figsize=(20, 10))\n",
        "im0 = ax[0].imshow(imggray, cmap=plt.cm.gray)\n",
        "im0.set_clim(0,1)\n",
        "ax[0].set_title(\"Grayscale image\")\n",
        "im1 = ax[1].imshow(moddft, cmap=plt.cm.gray)\n",
        "ax[1].set_title(\"Fourier modulus\")\n",
        "fig.tight_layout()\n",
        "plt.show()\n"
      ],
      "execution_count": null,
      "outputs": []
    },
    {
      "cell_type": "markdown",
      "metadata": {
        "id": "kvYnNrS8dUND"
      },
      "source": [
        "At first inspection the image is black with one pixel at the center...\n",
        "\n",
        "**Exercise:** \n",
        "1. Apply g(x) = log(1+x) to ```mdftu``` and redo the visualization.\n",
        "2. Explain why at the begining the image was black with one pixel at the\n",
        "center."
      ]
    },
    {
      "cell_type": "code",
      "metadata": {
        "id": "SKA5LUpCdYGE"
      },
      "source": [
        "#TODO:"
      ],
      "execution_count": null,
      "outputs": []
    },
    {
      "cell_type": "markdown",
      "metadata": {
        "id": "mBSXlNy1GZZu"
      },
      "source": [
        "# Histograms and contrast enhancement\n",
        "\n",
        "## Input image"
      ]
    },
    {
      "cell_type": "code",
      "metadata": {
        "id": "r88cWkvDVwu2"
      },
      "source": [
        "imgrgb = skimage.img_as_float(imageio.imread('parrot.bmp'))\n",
        "imggray = skimage.color.rgb2gray(imgrgb)\n",
        "M, N = imggray.shape\n",
        "\n",
        "\n",
        "fig, ax = plt.subplots(1, 2, figsize=(8, 4))\n",
        "im0 = ax[0].imshow(imgrgb)\n",
        "ax[0].set_title(\"RGB image\")\n",
        "im1 = ax[1].imshow(imggray, cmap=plt.cm.gray)\n",
        "im1.set_clim(0,1)\n",
        "ax[1].set_title(\"Grayscale image\")\n",
        "#plt.colorbar(im1,ax=ax[1])\n",
        "fig.tight_layout()\n",
        "plt.show()"
      ],
      "execution_count": null,
      "outputs": []
    },
    {
      "cell_type": "markdown",
      "metadata": {
        "id": "JLMLwmbaMeBT"
      },
      "source": [
        "## Computing histograms\n",
        "\n",
        "In the following, we compute and display the gray level histogram and the cumulative histogram of an image. \n",
        " \n",
        "The cumulative histogram of a discrete image $u$ is an increasing function defined on $\\mathbb{R}$ by\n",
        "$$H_u(\\lambda)=\\frac{1}{|\\Omega|}\\#{\\{\\textbf{x};\\;u(\\textbf{x})\\leq \\lambda\\}}.$$\n",
        "\n",
        "We compute the histogram of the image `imgray`"
      ]
    },
    {
      "cell_type": "code",
      "metadata": {
        "id": "7KnkVFBYMjtV"
      },
      "source": [
        "imhisto, bins = np.histogram(imggray, range=(0,1), bins = 256)\n",
        "imhisto      = imhisto/np.sum(imhisto)"
      ],
      "execution_count": null,
      "outputs": []
    },
    {
      "cell_type": "markdown",
      "metadata": {
        "id": "jLfC4VLyM20k"
      },
      "source": [
        "We now compute the corresponding cumulative histogram thanks to the function ```np.cumsum()``` which cumulates the values of a vector from left to right."
      ]
    },
    {
      "cell_type": "code",
      "metadata": {
        "id": "duAndNJuM7iN"
      },
      "source": [
        "imhistocum = np.cumsum(imhisto) "
      ],
      "execution_count": null,
      "outputs": []
    },
    {
      "cell_type": "markdown",
      "metadata": {
        "id": "bUiqgBlPM_di"
      },
      "source": [
        "We display the image, histogram and cumulative histogram"
      ]
    },
    {
      "cell_type": "code",
      "metadata": {
        "id": "udzu2usJNEns"
      },
      "source": [
        "fig, axes = plt.subplots(nrows=1, ncols=3, figsize=(15, 5))\n",
        "im0 = axes[0].imshow(imggray,cmap='gray')\n",
        "im0.set_clim(0,1)\n",
        "axes[0].set_title('parrot image')\n",
        "axes[1].bar(np.arange(np.size(imhisto)), imhisto, width=1.)\n",
        "axes[1].set_title('histogram')\n",
        "axes[2].bar(np.arange(np.size(imhistocum)), imhistocum, width=1.)\n",
        "axes[2].set_title('cumulative histogram')\n",
        "fig.tight_layout()"
      ],
      "execution_count": null,
      "outputs": []
    },
    {
      "cell_type": "markdown",
      "metadata": {
        "id": "oabLatFwM_l9"
      },
      "source": [
        "##Histogram equalization \n",
        "\n",
        "If $u$ is a discrete image and $h_u$  its gray level distribution, histogram equalization consists in\n",
        "applying a contrast change $g$ (increasing function) to $u$ such that $h_{g(u)}$ is as close as possible to a constant distribution. We can compute directly $$H_u(u)*255,$$\n",
        "where $H_u$ is the cumulative histogram of $u$.\n",
        "\n",
        "To this aim, we can apply directly the vector `imhistocum` (which can be seen as a function from $\\{0,\\dots,255\\}$ into $[0,1]$) to the numpy array `imgray`. Since `imggray` has values between $0$ and $1$, it is necessary to multiply it by $255$ and cast it as a 8-bit array. "
      ]
    },
    {
      "cell_type": "code",
      "metadata": {
        "id": "vlHzl2gGOmOf"
      },
      "source": [
        "imeq = imhistocum[np.uint8(imggray*255)]"
      ],
      "execution_count": null,
      "outputs": []
    },
    {
      "cell_type": "markdown",
      "metadata": {
        "id": "JZn2fSDRM_pm"
      },
      "source": [
        "### Exercise:\n",
        "1. Display `imeq` and its associated histogram and cumulative histogram. Comment the result.\n",
        "2. Code an alternative histogram equalization procedure using a sorting algorithm: Each gray-level of the image having $M\\times N$ pixels is replaced by its rank $k\\in\\{0,...,MN-1\\}$  divided by $MN-1$.\n",
        "3. Check that the results are consistent.\n",
        "4. Try this algorithm on `piano.png`. What do you observe? Can you explain the artefact?\n"
      ]
    },
    {
      "cell_type": "code",
      "metadata": {
        "id": "jvj8lvWXXJ-V"
      },
      "source": [
        "#TODO"
      ],
      "execution_count": null,
      "outputs": []
    },
    {
      "cell_type": "markdown",
      "metadata": {
        "id": "rjM6opw7fdR2"
      },
      "source": [
        "## Midway histogram"
      ]
    },
    {
      "cell_type": "code",
      "metadata": {
        "id": "o_V2uwcyfbt4"
      },
      "source": [
        "buenos1 = skimage.img_as_float(imageio.imread('buenosaires3.bmp'))\n",
        "buenos2 = skimage.img_as_float(imageio.imread('buenosaires4.bmp'))\n",
        "u = skimage.color.rgb2gray(buenos1)\n",
        "v = skimage.color.rgb2gray(buenos2)\n",
        "M, N = u.shape\n",
        "\n",
        "fig, ax = plt.subplots(1, 2, figsize=(8, 4))\n",
        "im0 = ax[0].imshow(u, cmap=plt.cm.gray)\n",
        "im0.set_clim(0,1)\n",
        "ax[0].set_title(\"Grayscale image 1\")\n",
        "im1 = ax[1].imshow(v, cmap=plt.cm.gray)\n",
        "im1.set_clim(0,1)\n",
        "ax[1].set_title(\"Grayscale image 2\")\n",
        "fig.tight_layout()\n",
        "plt.show()"
      ],
      "execution_count": null,
      "outputs": []
    },
    {
      "cell_type": "code",
      "metadata": {
        "id": "yg2JWMosg-ow"
      },
      "source": [
        "# sort u and v:\n",
        "u_sort,index_u=np.sort(u,axis=None),np.argsort(u,axis=None)\n",
        "v_sort,index_v=np.sort(v,axis=None),np.argsort(v,axis=None)\n",
        "\n",
        "u_midway = np.zeros(u_sort.shape)\n",
        "v_midway = np.zeros(v_sort.shape)\n",
        "\n",
        "u_midway[index_u] = (u_sort + v_sort)/2\n",
        "v_midway[index_v] = (u_sort + v_sort)/2\n",
        "u_midway = u_midway.reshape(u.shape)\n",
        "v_midway = v_midway.reshape(v.shape)\n",
        "\n",
        "fig, ax = plt.subplots(2, 2, figsize=(12, 12))\n",
        "im = ax[0,0].imshow(u, cmap=plt.cm.gray)\n",
        "im.set_clim(0,1)\n",
        "ax[0,0].set_title(\"Grayscale image 1\")\n",
        "im = ax[0,1].imshow(v, cmap=plt.cm.gray)\n",
        "im.set_clim(0,1)\n",
        "ax[0,1].set_title(\"Grayscale image 2\")\n",
        "im = ax[1,0].imshow(u_midway, cmap=plt.cm.gray)\n",
        "im.set_clim(0,1)\n",
        "ax[1,0].set_title(\"Midway image 1\")\n",
        "im = ax[1,1].imshow(v_midway, cmap=plt.cm.gray)\n",
        "im.set_clim(0,1)\n",
        "ax[1,1].set_title(\"Midway image 2\")\n",
        "fig.tight_layout()\n",
        "plt.show()\n"
      ],
      "execution_count": null,
      "outputs": []
    },
    {
      "cell_type": "markdown",
      "metadata": {
        "id": "lSWm2zYDU9c3"
      },
      "source": [
        "# Linear filtering\n",
        "\n",
        "Below we see how to apply a 2D convolution to an image with a small kernel. Note that for kernels with a large support, one should use FFT-based convolution.\n"
      ]
    },
    {
      "cell_type": "markdown",
      "metadata": {
        "id": "N-VZaWrWVZOt"
      },
      "source": [
        "## Gaussian blur:\n",
        "\n",
        "The code below creates a 2D Gaussian kernel.\n",
        "\n"
      ]
    },
    {
      "cell_type": "code",
      "metadata": {
        "id": "hYAsLSIbY0Z4"
      },
      "source": [
        "import scipy.ndimage\n",
        "\n",
        "sigblur = 4.\n",
        "s = int(3*sigblur)\n",
        "w = 2*s+1\n",
        "kernel = np.zeros(w)\n",
        "for t in np.arange(w):\n",
        "    kernel[t] = np.exp(-(t-s)**2/(2*sigblur**2))\n",
        "kernel /= sum(kernel)\n",
        "\n",
        "gausskernel = np.zeros((w,w))\n",
        "for t1 in np.arange(w):\n",
        "    for t2 in np.arange(w):\n",
        "        gausskernel[t1,t2] = kernel[t1]*kernel[t2]\n",
        "print('Sum of coeff: ', np.sum(gausskernel))\n",
        "plt.imshow(gausskernel)\n",
        "plt.colorbar()\n",
        "plt.show()\n",
        "\n",
        "imgrgb = skimage.img_as_float(imageio.imread('parrot.bmp'))\n",
        "imggray = skimage.color.rgb2gray(imgrgb)\n",
        "M, N = imggray.shape\n",
        "\n",
        "blurredimg = scipy.ndimage.convolve(imggray, gausskernel)\n",
        "\n",
        "fig, axes = plt.subplots(nrows=1, ncols=2, figsize=(10, 5))\n",
        "im0 = axes[0].imshow(imggray,cmap='gray')\n",
        "im0.set_clim(0,1)\n",
        "axes[0].set_title('parrot image')\n",
        "im1 = axes[1].imshow(blurredimg ,cmap='gray')\n",
        "im1.set_clim(0,1)\n",
        "axes[1].set_title('blurred image')\n",
        "fig.tight_layout()\n",
        "\n",
        "plt.show()\n",
        "\n"
      ],
      "execution_count": null,
      "outputs": []
    },
    {
      "cell_type": "markdown",
      "metadata": {
        "id": "Pys5NBZ5b9Q0"
      },
      "source": [
        "### Exercise: \n",
        "\n",
        "The code above is a lot of lines for such a useful filter. Check the documentation of skimage for the corresponding Gaussian blur function. "
      ]
    },
    {
      "cell_type": "markdown",
      "metadata": {
        "id": "vFjy28HvdA7J"
      },
      "source": [
        "## Derivatives:\n",
        "\n",
        "\n",
        "\n"
      ]
    },
    {
      "cell_type": "code",
      "metadata": {
        "id": "iTttPiK0c9w5"
      },
      "source": [
        "\n",
        "hderker = np.array([[-1.,1.]])\n",
        "print(hderker.shape)\n",
        "vderker = hderker.copy().T\n",
        "print(vderker.shape)\n",
        "\n",
        "imgrgb = skimage.img_as_float(imageio.imread('parrot.bmp'))\n",
        "imggray = skimage.color.rgb2gray(imgrgb)\n",
        "M, N = imggray.shape\n",
        "\n",
        "hder = scipy.ndimage.convolve(imggray, hderker)\n",
        "vder = scipy.ndimage.convolve(imggray, vderker)\n",
        "gradnorm = np.sqrt(hder**2+vder**2)\n",
        "graddir = np.arctan2(vder,hder)\n",
        "\n",
        "fig, ax = plt.subplots(2, 2, figsize=(30, 30))\n",
        "im = ax[0,0].imshow(hder, cmap=plt.cm.gray)\n",
        "fig.colorbar(im, ax=ax[0,0])\n",
        "ax[0,0].set_title(\"Horizontal derivative\")\n",
        "im = ax[0,1].imshow(vder, cmap=plt.cm.gray)\n",
        "fig.colorbar(im, ax=ax[0,1])\n",
        "ax[0,1].set_title(\"Vertical derivative\")\n",
        "im = ax[1,0].imshow(gradnorm, cmap=plt.cm.gray)\n",
        "im.set_clim(0,1)\n",
        "fig.colorbar(im, ax=ax[1,0])\n",
        "ax[1,0].set_title(\"Gradient norm\")\n",
        "im = ax[1,1].imshow(graddir, cmap=plt.cm.hsv)\n",
        "im.set_clim(-np.pi,np.pi)\n",
        "fig.colorbar(im, ax=ax[1,1])\n",
        "ax[1,1].set_title(\"Gradient direction\")\n",
        "fig.tight_layout()\n",
        "plt.show()\n",
        "\n",
        "\n"
      ],
      "execution_count": null,
      "outputs": []
    },
    {
      "cell_type": "markdown",
      "metadata": {
        "id": "uLP1_eTzcwys"
      },
      "source": [
        "### Exercice: Sobel filters and contours:\n",
        "Let us recall that the Sobel filter uses filters as this one:\n",
        "$$\n",
        "        \\begin{pmatrix}\n",
        "          -1 & -2 & -1\\\\\n",
        "          0 & 0 & 0\\\\\n",
        "          1 & 2 & 1\\\\\n",
        "        \\end{pmatrix}\n",
        "$$\n",
        "to compute directional derivatives.\n",
        "\n",
        "1. Do a similar figure as above with Sobel filter.\n",
        "2. Add Gaussian noise to the input image and check that the Sobel filters are less sensitive than the -1/+1 directional derivatives.\n",
        "3. Apply a threshold to the ```gradnorm```image to extract contours of the image. What is a good threshold value according to you?\n"
      ]
    },
    {
      "cell_type": "markdown",
      "metadata": {
        "id": "FVQOr15MiZ5k"
      },
      "source": [
        "# Non linear filtering: Denoising algorithms\n"
      ]
    },
    {
      "cell_type": "markdown",
      "metadata": {
        "id": "OipOGK6githa"
      },
      "source": [
        "## Exercise:\n",
        "\n",
        "1. Extract a small part of an image that contains details (such as the head of the parrot or the head of the astronaut image). The goal is to see individual pixels when displaying in the notebook.\n",
        "\n",
        "2. Generate three noisy versions: One with \n",
        "    * One with a small amount of Gaussian noise (sigma = 4/255)\n",
        "    * one with a large amount of Gaussian noise (sigma = 20/255)\n",
        "    * and one with impulse noise of 5%.\n",
        "\n",
        "3. Compare the following algorithms one each image:\n",
        "  * Gaussian blur (used above) with a well-chosen parameter\n",
        "  * Median filter: ```skimage.filters.median```\n",
        "  * Bilateral filter: ```skimage.restoration.denoise_bilateral````\n",
        "  * Non local means.\n",
        "\n",
        " For each result display the PSNR by adapting the tutorial here:\n",
        "https://scikit-image.org/docs/dev/auto_examples/filters/plot_nonlocal_means.html?#non-local-means-denoising-for-preserving-textures\n",
        "\n"
      ]
    },
    {
      "cell_type": "markdown",
      "metadata": {
        "id": "vrAdxCY50yUH"
      },
      "source": [
        "#Credits:\n",
        "Some parts of this practical session are inspired by: \n",
        "* Julie Delon's \"Introduction to image processing - Radiometry\": \n",
        "https://nbviewer.jupyter.org/github/judelo/notebooks/blob/master/python/TP_Radiometrie.ipynb\n"
      ]
    }
  ]
}