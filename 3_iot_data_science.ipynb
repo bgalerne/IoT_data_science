{
  "nbformat": 4,
  "nbformat_minor": 0,
  "metadata": {
    "colab": {
      "name": "3_iot_data_science.ipynb",
      "provenance": [],
      "toc_visible": true,
      "authorship_tag": "ABX9TyPpvZnHmFQIi4Nfaczf27O0",
      "include_colab_link": true
    },
    "kernelspec": {
      "display_name": "Python 3",
      "name": "python3"
    }
  },
  "cells": [
    {
      "cell_type": "markdown",
      "metadata": {
        "id": "view-in-github",
        "colab_type": "text"
      },
      "source": [
        "<a href=\"https://colab.research.google.com/github/bgalerne/IoT_data_science/blob/main/3_iot_data_science.ipynb\" target=\"_parent\"><img src=\"https://colab.research.google.com/assets/colab-badge.svg\" alt=\"Open In Colab\"/></a>"
      ]
    },
    {
      "cell_type": "markdown",
      "metadata": {
        "id": "MhjB_E0pzmps"
      },
      "source": [
        "#Introduction to image processing: Filtering in Fourier domain and variational methods for inverse problems\n",
        "\n",
        "\n",
        "\n",
        "\n"
      ]
    },
    {
      "cell_type": "markdown",
      "metadata": {
        "id": "XZd16JMf0y9p"
      },
      "source": [
        "Import usual libraries"
      ]
    },
    {
      "cell_type": "code",
      "metadata": {
        "id": "MQH_yFdbzkKG"
      },
      "source": [
        "import numpy as np\n",
        "import matplotlib.pyplot as plt\n",
        "\n",
        "import skimage\n",
        "import skimage.color\n",
        "\n",
        "import imageio\n",
        "\n",
        "import scipy.ndimage\n"
      ],
      "execution_count": null,
      "outputs": []
    },
    {
      "cell_type": "markdown",
      "metadata": {
        "id": "FD4AnZP40qok"
      },
      "source": [
        "Download some images"
      ]
    },
    {
      "cell_type": "code",
      "metadata": {
        "id": "A2LDq5wn0scV"
      },
      "source": [
        "!wget \"https://www.idpoisson.fr/galerne/iot_data_science/parrot.bmp\"\n",
        "!wget \"https://www.idpoisson.fr/galerne/iot_data_science/image_sharpening.png\""
      ],
      "execution_count": null,
      "outputs": []
    },
    {
      "cell_type": "code",
      "metadata": {
        "id": "hO6x4smCrPwj"
      },
      "source": [
        ""
      ],
      "execution_count": null,
      "outputs": []
    },
    {
      "cell_type": "markdown",
      "metadata": {
        "id": "AaIx23FRz_Ry"
      },
      "source": [
        "# Filtering in Fourier domain"
      ]
    },
    {
      "cell_type": "markdown",
      "metadata": {
        "id": "DgKpdmLF0i5Q"
      },
      "source": [
        "## Forward and inverse Fourier transform\n",
        "\n",
        "**Exercise:** Given an image $u$, compute its Discrete Fourier transform $\\hat u$ using ```np.fft.fftshift(np.fft.fft2(u))```.\n",
        "\n",
        "In a 3x2 subplot, display \n",
        " * the original image \n",
        " * the real and imaginary parts of $\\hat u$ \n",
        " * the Fourier modulus with a proper contrast change \n",
        " * the Fourier phase (with a cyclic colormap so that $\\pi$ and $-\\pi$ have the same color)\n",
        " * the recontructed image by inverse FFT.\n",
        " \n",
        "For the recontructed image you may need to set to zero the imaginary part. But check that it is close to zero first.\n",
        "\n",
        "\n"
      ]
    },
    {
      "cell_type": "code",
      "metadata": {
        "id": "OikxqZcj0jEB"
      },
      "source": [
        "\n",
        "imgrgb = skimage.img_as_float(imageio.imread('parrot.bmp'))\n",
        "imggray = skimage.color.rgb2gray(imgrgb)\n",
        "dftimg = np.fft.fftshift(np.fft.fft2(imggray))\n",
        "\n",
        "#TODO:\n"
      ],
      "execution_count": null,
      "outputs": []
    },
    {
      "cell_type": "markdown",
      "metadata": {
        "id": "VPwejhUO4qmH"
      },
      "source": [
        "## Low pass filter\n",
        "\n",
        "**Exercise:** Reproduce the low-pass filter demo from the slide using the Parrot image (grayscale).\n",
        "\n",
        "We will suppose that the image height and width $M,N$ are even numbers.\n",
        "\n",
        "Spectral domain:  $\\hat{\\Omega}_{M,N}$: the null-frequency $(0,0)$ is at the center of the domain:\n",
        "$$\n",
        "\\hat{\\Omega}_{M,N} = \\left\\{ -\\frac{M}{2},\\dots,\\frac{M}{2}-1\\right\\}\\times \\left\\{ -\\frac{N}{2},\\dots,\\frac{N}{2}-1\\right\\}.\n",
        "$$\n",
        "To produce a disk image you should make grid images reproducing these indices.\n",
        "\n",
        "Discuss the different details that appear as the disc radius grows.\n",
        "\n"
      ]
    },
    {
      "cell_type": "code",
      "metadata": {
        "id": "MZH2jqIt7Ylu"
      },
      "source": [
        "#TODO."
      ],
      "execution_count": null,
      "outputs": []
    },
    {
      "cell_type": "markdown",
      "metadata": {
        "id": "0Z_ROMKC7rd7"
      },
      "source": [
        "## Image sharpening\n",
        "\n",
        "**(Optional) Exercise:** Reproduce the experiment for image sharpening on the image\n",
        "```image_sharpening.png```. \n",
        "To do the smooth mask, apply a Gaussian convolution filter to the binary disk used above.\n",
        "\n",
        "What value of gain feels like a sharpening ? For which gain value  this become degenerate ?\n"
      ]
    },
    {
      "cell_type": "code",
      "metadata": {
        "id": "P6tPlEGi7_xJ"
      },
      "source": [
        "imgrgb = skimage.img_as_float(imageio.imread('image_sharpening.png'))\n",
        "imggray = skimage.color.rgb2gray(imgrgb)\n",
        "\n",
        "#TODO\n",
        "\n",
        "fig, ax = plt.subplots(1, 2, figsize=(12, 6))\n",
        "im0 = ax[0].imshow(imggray, cmap=plt.cm.gray)\n",
        "im0.set_clim(0,1)\n",
        "ax[0].set_title(\"Grayscale image\")\n",
        "#im1 = ax[1].imshow(sharpened, cmap=plt.cm.gray) #TODO\n",
        "ax[1].set_title(\"Sharpened\")\n",
        "fig.tight_layout()\n",
        "plt.show()"
      ],
      "execution_count": null,
      "outputs": []
    },
    {
      "cell_type": "markdown",
      "metadata": {
        "id": "h91OSBvB9Yl8"
      },
      "source": [
        "# Variational methods for inverse problems"
      ]
    },
    {
      "cell_type": "code",
      "metadata": {
        "id": "DPKg25Kg9uXx"
      },
      "source": [
        "# Define Gaussian blur operator:\n",
        "sigblur = 2.\n",
        "s = int(3*sigblur)\n",
        "w = 2*s+1\n",
        "kernel = np.zeros(w)\n",
        "for t in np.arange(w):\n",
        "    kernel[t] = np.exp(-(t-s)**2/(2*sigblur**2))\n",
        "kernel /= sum(kernel)\n",
        "gausskernel = np.zeros((w,w))\n",
        "for t1 in np.arange(w):\n",
        "    for t2 in np.arange(w):\n",
        "        gausskernel[t1,t2] = kernel[t1]*kernel[t2]\n",
        "blur = lambda x: scipy.ndimage.convolve(x, gausskernel)\n",
        "\n",
        "original = skimage.data.astronaut()\n",
        "imggray = skimage.color.rgb2gray(original)\n",
        "imggray = imggray[0:200,120:320]\n",
        "M, N = imggray.shape\n",
        "imgblurred = blur(imggray)\n",
        "\n",
        "fig, ax = plt.subplots(1, 2, figsize=(8, 4))\n",
        "im0 = ax[0].imshow(imggray, cmap=plt.cm.gray)\n",
        "im0.set_clim(0,1)\n",
        "ax[0].set_title(\"Grayscale\")\n",
        "plt.colorbar(im0,ax=ax[0])\n",
        "im1 = ax[1].imshow(imgblurred, cmap=plt.cm.gray)\n",
        "im1.set_clim(0,1)\n",
        "ax[1].set_title(\"Blurred image\")\n",
        "plt.colorbar(im1,ax=ax[1])\n",
        "fig.tight_layout()\n",
        "plt.show()\n",
        "\n"
      ],
      "execution_count": null,
      "outputs": []
    },
    {
      "cell_type": "markdown",
      "metadata": {
        "id": "GWppYpdmrkBN"
      },
      "source": [
        "## Computation of pseudo-inverse using gradient descent\n",
        "Here $H$ is the linear operator such that \n",
        "$$\n",
        "H x = g_\\sigma \\ast x = \\operatorname{blur}(x).\n",
        "$$\n",
        "We want to minimize the function $f:\\mathbb{R}^{M\\times N} \\to \\mathbb{R}$\n",
        "$$\n",
        "f(x) = \\frac{1}{2}\\| H x - y \\|^2.\n",
        "$$\n",
        "We have\n",
        "$$\n",
        "\\nabla f (x) = H^T ( Hx - y)\n",
        "$$\n",
        "that is Lipschitz with constant $L = 1$ (attained for constant images).\n"
      ]
    },
    {
      "cell_type": "code",
      "metadata": {
        "id": "PZbYbw2s_YT2"
      },
      "source": [
        "y = imgblurred # blur without noise\n",
        "# y = imgblurred+4./255.*np.random.randn(M, N) # blur with additive noise\n",
        "\n",
        "def f(x):\n",
        "  return 0.5*np.sum((blur(x)-y)**2)\n",
        "\n",
        "def gradf(x):\n",
        "  return blur(blur(x)-y)\n",
        "\n",
        "L = 1 \n",
        "\n",
        "def gradient_descent_fixed_step_size(f,gradf,x0,niter,t,verb=True):\n",
        "  FXk = f(x0)\n",
        "  x = x0.copy()\n",
        "  for k in range(niter):\n",
        "    x = x - t * gradf(x)\n",
        "    fx = f(x)\n",
        "    FXk = np.append(FXk,fx)\n",
        "    if verb:\n",
        "      print(['it ', k, 'f(x) = ', fx])\n",
        "  return x, FXk\n",
        "\n",
        "t = 1/L\n",
        "niter = 200\n",
        "x0 = np.zeros(y.shape)\n",
        "x, FXk = gradient_descent_fixed_step_size(f,gradf,x0,niter,t)\n",
        "\n",
        "\n",
        "def imshowlistgray(imgs, titles):\n",
        "  fig, ax = plt.subplots(1, len(imgs), figsize = (10*len(imgs),10))\n",
        "  for k, im in enumerate(imgs):\n",
        "    im = ax[k].imshow(im, cmap = plt.cm.gray)\n",
        "    im.set_clim(0,1)\n",
        "    ax[k].set_title(titles[k])\n",
        "\n",
        "imshowlistgray([imggray, x0, x],['original', 'init', 'output'])"
      ],
      "execution_count": null,
      "outputs": []
    },
    {
      "cell_type": "markdown",
      "metadata": {
        "id": "HZFKFSxSNTPW"
      },
      "source": [
        "**Exercice:** Run the above code with a noise-free blurred input and with a blurred input corrupted with additive Gaussian noise (comment/uncomment first line). Observe that the pseudo-inverse is sensitive to noise."
      ]
    },
    {
      "cell_type": "markdown",
      "metadata": {
        "id": "_-C9sf0Ghhu4"
      },
      "source": [
        "## Tichonov regularization\n",
        "Here we minimize the function\n",
        "$$\n",
        "g(x) = f(x) + \\tau \\frac{1}{2} \\| \\nabla x \\|^2 \n",
        "= \\frac{1}{2} \\| H x - y \\|^2 + \\frac{\\tau }{2}\\| \\nabla x \\|^2,\n",
        "$$\n",
        "where\n",
        "$$\n",
        "\\| \\nabla x \\|^2\n",
        "= \\sum_{m=0}^{M-1}\\sum_{n=0}^{M-1} (x(m+1,n) - x(m,n))^2 + (x(m,n+1) - x(m,n))^2\n",
        "$$\n",
        "is the squared-norm of the gradient vector field (that can be computed thanks to two linear filters).\n",
        "\n",
        "One has\n",
        "$$\n",
        "\\nabla g(x) = \\nabla f (x) - \\Delta x = H^T ( Hx - y) - \\tau \\Delta x,\n",
        "$$\n",
        "where $\\Delta x$ is the discrete Laplacian, that is, the convolution of $x$ with the kernel\n",
        "$$\n",
        "\\begin{pmatrix}\n",
        "0 & 1 & 0 \\\\\n",
        "1 & -4 & 1 \\\\\n",
        "0 & 1 & 0\n",
        "\\end{pmatrix}.\n",
        "$$\n",
        "Here and we can take\n",
        "$$\n",
        "L = 1+8\\tau.\n",
        "$$\n",
        "\n",
        "**Exercise:**\n",
        "\n",
        "1. Define the necessary functions for minimizing the functional $g$ with the gradient descent code above.\n",
        "2. Check that the output is consistent in the noisy-free case.\n",
        "3. In the noisy case, display the results for four different values of the regularization parameter $\\tau$, from too small to too high.\n",
        "\n",
        "\n",
        "\n"
      ]
    },
    {
      "cell_type": "code",
      "metadata": {
        "id": "cJH1ezM0N2dm"
      },
      "source": [
        "#TODO:\n",
        "\n",
        "\n"
      ],
      "execution_count": null,
      "outputs": []
    }
  ]
}